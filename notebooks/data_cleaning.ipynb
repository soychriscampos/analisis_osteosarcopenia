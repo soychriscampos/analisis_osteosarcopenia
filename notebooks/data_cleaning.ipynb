{
 "cells": [
  {
   "cell_type": "markdown",
   "id": "8e9ef448-f79c-4af6-8334-6f51fcd3a79c",
   "metadata": {},
   "source": [
    "# Data cleaning - Proyecto Osteosarcopenia\n",
    "Este notebook realiza la limpieza de datos del estudio sobre osteosarcopenia realizado por el **Dr. Arturo Rizo Topete** en pacientes del municipio de Escuinapa, Sinaloa.  \n",
    "El archivo original entregado está en formato `.xlsx`, sin tratamiento previo, y contiene aproximadamente 75 columnas con datos clínicos, antropométricos y funcionales."
   ]
  },
  {
   "cell_type": "code",
   "execution_count": 16,
   "id": "2d0e8506-ecf9-4f76-b28b-f6cbd983a740",
   "metadata": {},
   "outputs": [],
   "source": [
    "# Librerías\n",
    "import pandas as pd\n",
    "import numpy as np"
   ]
  },
  {
   "cell_type": "markdown",
   "id": "812cfbbe-4ea5-46a6-a17c-4ac7b5a2101e",
   "metadata": {},
   "source": [
    "### 1. Carga de datos\n",
    "Dado que las dos primeras filas del archivo contenían información no estructurada como ecabezados de tabla, opté por omitirlas, de modo que la carga de datos incluyera únicamente atributos relevantes."
   ]
  },
  {
   "cell_type": "code",
   "execution_count": 17,
   "id": "d50a47bf-dfaa-4aec-af70-a7b14f14292a",
   "metadata": {},
   "outputs": [],
   "source": [
    "# carga de datos \n",
    "path = \"../data/raw/tabla osteosarcopenia escui.xlsx\"\n",
    "df = pd.read_excel(path, skiprows=2)"
   ]
  },
  {
   "cell_type": "markdown",
   "id": "20ed3ffb-3116-40e9-a695-cddd723feb2a",
   "metadata": {},
   "source": [
    "### 2. Limpieza de etiquetado de columnas\n",
    "* Se realizó una limpieza en los nombres de los atributos: se eliminaron espcios blancos al inicio y final, se sustituyeron espacios internos por guines bajos (`_`), se eliminaron puntos finales y se estandarizó el texto a minúsculas.\n",
    "* Se eliminaron columnas irrelvantes para los análisis posteriores, ya que algunos eran redundantes o contenían únicamente valores nulos.\n",
    "* Se renombraron algunos atributos para que fueran más representativos del contenido real o para facilitar su uso durante el análisis, debido a la complejidad de sus nombres originales."
   ]
  },
  {
   "cell_type": "code",
   "execution_count": 18,
   "id": "36264eaf-b3a7-4e3e-add0-7e4d37979de6",
   "metadata": {},
   "outputs": [],
   "source": [
    "# character cleaning\n",
    "df.columns = (\n",
    "    df.columns\n",
    "    .str.strip()\n",
    "    .str.replace(\" \", \"_\")\n",
    "    .str.replace(\".\", \"\")\n",
    "    .str.lower()\n",
    ")\n",
    "\n",
    "# column drop\n",
    "df = df.drop(columns=[\n",
    "    '#',\n",
    "    'nombre',\n",
    "    'rango_de_edad',\n",
    "    'lugar',\n",
    "    '3_ms',\n",
    "    'resultado2',\n",
    "    'sarcopenia1',\n",
    "    'grosor',\n",
    "    'sarcopenia2',\n",
    "    'medicamento_3',\n",
    "    'medicamento_4'\n",
    "])\n",
    "\n",
    "\n",
    "# column rename\n",
    "df = df.rename(columns={\n",
    "    'imc1': 'clas_imc',\n",
    "    'resultado': 'grasa_resultado',\n",
    "    'masa_muscular_absoluta,_kg': 'masa_muscular_absoluta',\n",
    "    'imme:_kg/m2': 'imme',\n",
    "    'resultado1': 'imme_resultado',\n",
    "    'puntaje_sarc_-f': 'sarc_f_puntaje',\n",
    "    'resultado_de_sarc-f': 'sarc_f_resultado',\n",
    "    'tiempo_de_ejercico': 'tiempo_de_ejercicio',\n",
    "    'probabilida_de_fractura_por_fragilidad': 'probabilidad_de_fractura_por_fragilidad',\n",
    "    'probabilida_de_fractura_de_cadera': 'probabilidad_de_fractura_de_cadera'\n",
    "    \n",
    "})"
   ]
  },
  {
   "cell_type": "markdown",
   "id": "2ac5982c-880a-4e0a-8415-f085955ff1c8",
   "metadata": {},
   "source": [
    "### 3. Limpieza de valores\n",
    "\n",
    "* Dado que el documento original contenía información fuera del estudio en filas muy posteriores, se determinó conservar únicamente las filas correspondientes a los pacientes incluidos en el análisis.\n",
    "* Se realizaron correcciones concretas en las siguientes columnas:\n",
    "  - `columna`: Se diseñó una función específica para corregir errores de captura, donde un número iniciaba con punto (`.`), lo cual —según confirmación del creador del estudio— representaba un valor negativo.\n",
    "  - `altura_en_cm` y `altura_mencionada`: se diseñó una función para corregir automáticamente valores erróneos, como:\n",
    "    - alturas en metros (`1.45` → `145`)\n",
    "  - `prueba_de_la_silla`: incluía el valor `\"Incapaz\"` como texto; se reemplazó por `NaN` para conservar el tipo de dato numérico.\n",
    "  - `clasificacion_de_estado_fisico`: se eliminó la palabra inicial redundante (\"rendimiento\") y se conservó únicamente la categoría relevante.\n",
    "  - `tiempo_de_ejercicio`: se corrigieron errores de digitación, como ausencia de espacios.\n",
    "  - `nivel_de_sarcopenia`, `medicamento_1`, `medicamento_2`: se normalizaron errores ortográficos y tipográficos.\n",
    "* Se iteró sobre cada columna de tipo texto para eliminar espacios en blanco al inicio y final, y se estandarizó todo el contenido a minúsculas.\n"
   ]
  },
  {
   "cell_type": "code",
   "execution_count": 19,
   "id": "cf107d13-1977-413e-8f86-1e0dd9c62c8e",
   "metadata": {},
   "outputs": [
    {
     "name": "stderr",
     "output_type": "stream",
     "text": [
      "/var/folders/rd/bxvzw2690fn36hkcfrn53yh80000gn/T/ipykernel_11965/1722507264.py:44: FutureWarning: Downcasting behavior in `replace` is deprecated and will be removed in a future version. To retain the old behavior, explicitly call `result.infer_objects(copy=False)`. To opt-in to the future behavior, set `pd.set_option('future.no_silent_downcasting', True)`\n",
      "  df['prueba_de_la_silla'] = df['prueba_de_la_silla'].replace('Incapaz', np.nan)\n"
     ]
    }
   ],
   "source": [
    "# selección de pacientes del estudio\n",
    "df = df.iloc[:53, :]\n",
    "\n",
    "def corregir_puntos_erroneos(x):\n",
    "    \"\"\"\n",
    "    Corrige valores:\n",
    "    Que empiezan con \".\" y deberían ser \"-\"\n",
    "    \"\"\"\n",
    "    try:\n",
    "        x = str(x).strip()\n",
    "\n",
    "        if x.startswith('.'):\n",
    "            partes = x[1:].split('.')\n",
    "            if len(partes) >= 2:\n",
    "                return -(float(f\"{partes[0]}.{partes[1]}\"))\n",
    "            else:\n",
    "                return -float(x[1:])\n",
    "        else:\n",
    "            return float(x)\n",
    "    \n",
    "    except:\n",
    "        return np.nan\n",
    "\n",
    "\n",
    "def corregir_altura(x):\n",
    "    \"\"\"\n",
    "    Corrige errores de datos ingresados en la altura:\n",
    "    por ejemplo \"1.45\" a \"145\"\n",
    "    \"\"\"\n",
    "    try:\n",
    "        valor = x\n",
    "\n",
    "        if valor < 3:\n",
    "            return valor * 100\n",
    "        else:\n",
    "            return valor\n",
    "\n",
    "    except:\n",
    "        return np.nan\n",
    "\n",
    "\n",
    "# corrección específica de columnas individuales\n",
    "df['columna'] = df['columna'].apply(corregir_puntos_erroneos)\n",
    "df['prueba_de_la_silla'] = df['prueba_de_la_silla'].replace('Incapaz', np.nan)\n",
    "df['altura_en_cm'] = df['altura_en_cm'].apply(corregir_altura)\n",
    "df['altura_mencionada'] = df['altura_mencionada'].apply(corregir_altura)\n",
    "df['clasificacion_de_estado_fisico'] = df['clasificacion_de_estado_fisico'].apply(lambda x: x.split(' ', 1)[-1] if isinstance(x, str) else x)\n",
    "df['tiempo_de_ejercicio'] = df['tiempo_de_ejercicio'].replace({\n",
    "    '61 -120 mins': '61 - 120 mins',\n",
    "    '121 -180mins': '121 - 180 mins'\n",
    "})\n",
    "\n",
    "df['nivel_de_sarcopenia'] = df['nivel_de_sarcopenia'].replace({\n",
    "    'Sarcopenoa Leve': 'sarcopenia leve'\n",
    "})\n",
    "\n",
    "df['medicamento_1'] = df['medicamento_1'].replace({\n",
    "    'hipnoticos o ancioliticos': 'hipnoticos o ansioliticos'\n",
    "})\n",
    "\n",
    "df['medicamento_2'] = df['medicamento_2'].replace({\n",
    "    'hipnoticos o ancioliticos': 'hipnoticos o ansioliticos'\n",
    "})\n",
    "\n",
    "# estandarización y limpieza de espacios\n",
    "for col in df.select_dtypes(include='object').columns:\n",
    "    df[col] = df[col].str.strip().str.lower()"
   ]
  },
  {
   "cell_type": "markdown",
   "id": "6b339504-0dae-413d-9cb5-3da88d3c5bc9",
   "metadata": {},
   "source": [
    "### 4. Creación de categorías ordenadas.\n",
    "* Se identificaron las columnas categóricas con un orden jerárquico inherente (por ejemplo: clasificación de imc, tiempo de ejercicio, etc).\n",
    "* Se definió un diccionario con el orden explícito de las categorías para cada una de estas variables, facilitando su interpretación clínica y futura visualización.\n",
    "* Si iteró sobre dicho diccionario para convertir automáticamente cada columna en una variable de tipo `Categorical` con orden definido (`ordered=True`), lo que permitirá:\n",
    "  - Graficar correctamente las categorías en el orden esperado.\n",
    "  - Realizar comparaciones lógicas y análisis estadísticos entre niveles.\n",
    "  - Preservar el significado clínico de los rangos en fases posteriores al análisis."
   ]
  },
  {
   "cell_type": "code",
   "execution_count": 20,
   "id": "d0112ef4-c6f1-4215-8bea-5746a9e41f16",
   "metadata": {},
   "outputs": [],
   "source": [
    "# Ordenamiento de variables por categorias\n",
    "categorias_ordenadas = {\n",
    "    'clas_imc': ['adecuado', 'sobrepeso', 'obesidad 1', 'obesidad 2', 'obesidad 3'],\n",
    "    'grasa_resultado': ['normal', 'bueno', 'alta', 'peligrosamente alta'],\n",
    "    'imme_resultado': ['normal', 'sarcopenia grado 1', 'sarcopenia grado 2'],\n",
    "    'estratificacion_de_riesgo': ['baja', 'moderada', 'alta', 'muy alta'],\n",
    "    'clasificacion_de_estado_fisico' : ['bajo', 'intermedio', 'alto'],\n",
    "    'fuerza': ['ninguna', 'poca', 'mucha'],\n",
    "    'caminata': ['ninguna', 'poca', 'mucha'],\n",
    "    'levantarse': ['ninguna', 'poca', 'mucha'],\n",
    "    'subir_escaleras': ['ninguna', 'poca', 'mucha'],\n",
    "    'caidas': ['ninguna', '1 - 3 caidas', '4 o mas caidas'],\n",
    "    'tiempo_de_ejercicio': ['no', '30 - 60 mins', '61 - 120 mins', '121 - 180 mins','mas de 180 mins'],\n",
    "    'nivel_de_sarcopenia': ['sin sarcopenia', 'sarcopenia leve', 'sarcopenia moderada', 'sarcopenia severa']\n",
    "}\n",
    "\n",
    "for col, orden in categorias_ordenadas.items():\n",
    "    if col in df.columns:\n",
    "        df[col] = pd.Categorical(df[col], categories=orden, ordered=True)"
   ]
  },
  {
   "cell_type": "markdown",
   "id": "455addef-0801-44a8-b482-f56a0de4a652",
   "metadata": {},
   "source": [
    "### 5. Se exporta el nuevo dataset en formato csv.\n",
    "Se exporta el DataFrame resultante a un archivo `.csv` en la carpeta `data/cleaned`, conservando únicamente los registros y atributos limpios, listos para su análisis exploratorio."
   ]
  },
  {
   "cell_type": "code",
   "execution_count": 21,
   "id": "6b9e66e7-2a5e-4bd1-a5b7-3df8e873e191",
   "metadata": {},
   "outputs": [],
   "source": [
    "df.to_csv('../data/cleaned/df_limpio.csv', index=False)"
   ]
  }
 ],
 "metadata": {
  "kernelspec": {
   "display_name": "Python 3 (ipykernel)",
   "language": "python",
   "name": "python3"
  },
  "language_info": {
   "codemirror_mode": {
    "name": "ipython",
    "version": 3
   },
   "file_extension": ".py",
   "mimetype": "text/x-python",
   "name": "python",
   "nbconvert_exporter": "python",
   "pygments_lexer": "ipython3",
   "version": "3.12.2"
  }
 },
 "nbformat": 4,
 "nbformat_minor": 5
}
